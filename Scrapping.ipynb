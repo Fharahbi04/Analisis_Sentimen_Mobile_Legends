{
  "nbformat": 4,
  "nbformat_minor": 0,
  "metadata": {
    "colab": {
      "provenance": [],
      "collapsed_sections": [
        "Sdpk8mvmRm2y"
      ]
    },
    "kernelspec": {
      "name": "python3",
      "display_name": "Python 3"
    },
    "language_info": {
      "name": "python"
    }
  },
  "cells": [
    {
      "cell_type": "markdown",
      "source": [
        "#Scraping Play Store\n",
        "**Melakukan scraping google play store dengan mengambil ulasan dari game mobile legends bang-bang.**\n"
      ],
      "metadata": {
        "id": "Sdpk8mvmRm2y"
      }
    },
    {
      "cell_type": "code",
      "source": [
        "!pip install google-play-scraper\n"
      ],
      "metadata": {
        "colab": {
          "base_uri": "https://localhost:8080/"
        },
        "id": "D9JTyFmhPyrG",
        "outputId": "34962012-abb2-4562-bba5-153269a54bb9"
      },
      "execution_count": 1,
      "outputs": [
        {
          "output_type": "stream",
          "name": "stdout",
          "text": [
            "Collecting google-play-scraper\n",
            "  Downloading google_play_scraper-1.2.7-py3-none-any.whl.metadata (50 kB)\n",
            "\u001b[?25l     \u001b[90m━━━━━━━━━━━━━━━━━━━━━━━━━━━━━━━━━━━━━━━━\u001b[0m \u001b[32m0.0/50.2 kB\u001b[0m \u001b[31m?\u001b[0m eta \u001b[36m-:--:--\u001b[0m\r\u001b[2K     \u001b[90m━━━━━━━━━━━━━━━━━━━━━━━━━━━━━━━━━━━━━━━━\u001b[0m \u001b[32m50.2/50.2 kB\u001b[0m \u001b[31m1.5 MB/s\u001b[0m eta \u001b[36m0:00:00\u001b[0m\n",
            "\u001b[?25hDownloading google_play_scraper-1.2.7-py3-none-any.whl (28 kB)\n",
            "Installing collected packages: google-play-scraper\n",
            "Successfully installed google-play-scraper-1.2.7\n"
          ]
        }
      ]
    },
    {
      "cell_type": "code",
      "source": [
        "from google_play_scraper import app,Sort,reviews\n",
        "import csv\n",
        "import pandas as pd\n"
      ],
      "metadata": {
        "id": "RUqPAiZXP6yE"
      },
      "execution_count": 9,
      "outputs": []
    },
    {
      "cell_type": "code",
      "source": [
        "scraping = reviews(\n",
        "    'com.mobile.legends',\n",
        "    lang='id',\n",
        "    country='id',\n",
        "    sort=Sort.MOST_RELEVANT,\n",
        "    count = 11000\n",
        ")[0]"
      ],
      "metadata": {
        "id": "cgMv-6CvEdmg"
      },
      "execution_count": 5,
      "outputs": []
    },
    {
      "cell_type": "code",
      "source": [
        "with open('reviews.csv', 'w', newline='', encoding='utf-8') as csvfile:\n",
        "    writer = csv.writer(csvfile)\n",
        "    writer.writerow(['Review'])\n",
        "    for review in scraping:\n",
        "        writer.writerow([review['content']])"
      ],
      "metadata": {
        "id": "BGJxwuehFSN0"
      },
      "execution_count": 10,
      "outputs": []
    },
    {
      "cell_type": "code",
      "source": [
        "app_reviews = pd.DataFrame(scraping)\n",
        "app_reviews.shape\n",
        "app_reviews.head()\n",
        "app_reviews.to_csv('reviews.csv', index=False)"
      ],
      "metadata": {
        "id": "VWrcS5RNGwUe"
      },
      "execution_count": 11,
      "outputs": []
    }
  ]
}